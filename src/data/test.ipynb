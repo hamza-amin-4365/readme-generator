{
 "cells": [
  {
   "cell_type": "code",
   "execution_count": 1,
   "metadata": {},
   "outputs": [
    {
     "name": "stdout",
     "output_type": "stream",
     "text": [
      "                repo_id                                     file_structure  \\\n",
      "0  100-times-faster-nlp  {\"type\": \"directory\", \"name\": \"100-times-faste...   \n",
      "1            accelerate  {\"type\": \"directory\", \"name\": \"accelerate\", \"c...   \n",
      "2  action-check-commits  {\"type\": \"directory\", \"name\": \"action-check-co...   \n",
      "\n",
      "                                      readme_content  \\\n",
      "0  # 🚀 100 Times Faster Natural Language Processi...   \n",
      "1  This folder contains test configs for `acceler...   \n",
      "2  # Check Commit Messages GitHub Action\\n\\nA sim...   \n",
      "\n",
      "                                   key_code_snippets  \n",
      "0  {\".git\\\\hooks\\\\applypatch-msg.sample\": \"#!/bin...  \n",
      "1  {\"setup.py\": \"# Copyright 2021 The HuggingFace...  \n",
      "2  {\"index.js\": \"const got = require(\\\"got\\\");\\n\\...  \n"
     ]
    }
   ],
   "source": [
    "import pandas as pd\n",
    "\n",
    "# Replace 'file.feather' with the path to your .feather file\n",
    "df = pd.read_feather(r'df_chunk_0_3.ftr')\n",
    "\n",
    "# Display the contents\n",
    "print(df)\n"
   ]
  },
  {
   "cell_type": "code",
   "execution_count": 2,
   "metadata": {},
   "outputs": [],
   "source": [
    "# Save DataFrame to CSV\n",
    "df.to_csv('output.csv', index=False)\n",
    "\n",
    "# Save DataFrame to JSON\n",
    "df.to_json('output.json', orient='records', lines=True)\n"
   ]
  },
  {
   "cell_type": "code",
   "execution_count": null,
   "metadata": {},
   "outputs": [],
   "source": []
  }
 ],
 "metadata": {
  "kernelspec": {
   "display_name": "Python 3",
   "language": "python",
   "name": "python3"
  },
  "language_info": {
   "codemirror_mode": {
    "name": "ipython",
    "version": 3
   },
   "file_extension": ".py",
   "mimetype": "text/x-python",
   "name": "python",
   "nbconvert_exporter": "python",
   "pygments_lexer": "ipython3",
   "version": "3.12.3"
  }
 },
 "nbformat": 4,
 "nbformat_minor": 2
}
