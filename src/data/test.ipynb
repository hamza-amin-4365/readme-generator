{
 "cells": [
  {
   "cell_type": "code",
   "execution_count": 1,
   "metadata": {},
   "outputs": [
    {
     "name": "stdout",
     "output_type": "stream",
     "text": [
      "                repo_id                                     file_structure  \\\n",
      "0  100-times-faster-nlp  {\".\": {\"_files\": [\".gitignore\", \"100-times-fas...   \n",
      "1            accelerate  {\".\": {\"_files\": [\".gitignore\", \".pre-commit-c...   \n",
      "2  action-check-commits  {\".\": {\"_files\": [\".gitignore\", \".prettierrc.j...   \n",
      "3        adversarialnlp  {\".\": {\"_files\": [\".gitignore\", \".pylintrc\", \"...   \n",
      "4             AI-Canvas  {\".\": {\"_files\": [\".gitignore\", \"Handtracking....   \n",
      "\n",
      "                                      readme_content  \n",
      "0  # 🚀 100 Times Faster Natural Language Processi...  \n",
      "1  <!---\\nCopyright 2021 The HuggingFace Team. Al...  \n",
      "2  # Check Commit Messages GitHub Action\\n\\nA sim...  \n",
      "3  # AdversarialNLP - WIP\\n\\nAdversarialNLP is a ...  \n",
      "4  # Virtual AI Canvas with OpenCV and MediaPipe\\...  \n"
     ]
    }
   ],
   "source": [
    "import pandas as pd\n",
    "\n",
    "# Replace 'file.feather' with the path to your .feather file\n",
    "df = pd.read_feather(r'readme_data_sample.feather')\n",
    "\n",
    "# Display the contents\n",
    "print(df)\n"
   ]
  },
  {
   "cell_type": "code",
   "execution_count": 6,
   "metadata": {},
   "outputs": [],
   "source": [
    "# Save DataFrame to CSV\n",
    "df.to_csv('output.csv', index=False)\n",
    "\n",
    "# Save DataFrame to JSON\n",
    "df.to_json('output.json', orient='records', lines=True)\n"
   ]
  },
  {
   "cell_type": "code",
   "execution_count": null,
   "metadata": {},
   "outputs": [],
   "source": []
  }
 ],
 "metadata": {
  "kernelspec": {
   "display_name": "Python 3",
   "language": "python",
   "name": "python3"
  },
  "language_info": {
   "codemirror_mode": {
    "name": "ipython",
    "version": 3
   },
   "file_extension": ".py",
   "mimetype": "text/x-python",
   "name": "python",
   "nbconvert_exporter": "python",
   "pygments_lexer": "ipython3",
   "version": "3.12.3"
  }
 },
 "nbformat": 4,
 "nbformat_minor": 2
}
