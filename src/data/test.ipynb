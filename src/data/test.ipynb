{
 "cells": [
  {
   "cell_type": "code",
   "execution_count": 1,
   "metadata": {},
   "outputs": [
    {
     "name": "stdout",
     "output_type": "stream",
     "text": [
      "                  repo_id                                          file_path  \\\n",
      "0    100-times-faster-nlp  test\\100-times-faster-nlp\\100-times-faster-nlp...   \n",
      "1    100-times-faster-nlp  test\\100-times-faster-nlp\\100-times-faster-nlp...   \n",
      "2    100-times-faster-nlp                test\\100-times-faster-nlp\\README.md   \n",
      "3              accelerate            test\\accelerate\\.pre-commit-config.yaml   \n",
      "4              accelerate                 test\\accelerate\\CODE_OF_CONDUCT.md   \n",
      "..                    ...                                                ...   \n",
      "286                  main       test\\action-check-commits\\dist\\main\\index.js   \n",
      "287                   src    test\\action-check-commits\\src\\extractCommits.ts   \n",
      "288                   src  test\\action-check-commits\\src\\isValidCommitMes...   \n",
      "289                   src              test\\action-check-commits\\src\\main.ts   \n",
      "290             __tests__  test\\action-check-commits\\src\\__tests__\\isVali...   \n",
      "\n",
      "                                               content  \n",
      "0    <!DOCTYPE html>\\n<html>\\n<head><meta charset=\"...  \n",
      "1    %load_ext Cythonfrom random import random\\n\\nc...  \n",
      "2    # 🚀 100 Times Faster Natural Language Processi...  \n",
      "3    repos:\\n  - repo: https://github.com/astral-sh...  \n",
      "4    \\n# Contributor Covenant Code of Conduct\\n\\n##...  \n",
      "..                                                 ...  \n",
      "286  /******/ (() => { // webpackBootstrap\\n/******...  \n",
      "287  import get from \"lodash.get\";\\nimport got from...  \n",
      "288  const isValidCommitMessage = (message: string,...  \n",
      "289  const { context } = require(\"@actions/github\")...  \n",
      "290  import isValidCommitMessage from \"../isValidCo...  \n",
      "\n",
      "[291 rows x 3 columns]\n"
     ]
    }
   ],
   "source": [
    "import pandas as pd\n",
    "\n",
    "# Replace 'file.feather' with the path to your .feather file\n",
    "df = pd.read_feather(r'df_chunk_0_291.ftr')\n",
    "\n",
    "# Display the contents\n",
    "print(df)\n"
   ]
  },
  {
   "cell_type": "code",
   "execution_count": 3,
   "metadata": {},
   "outputs": [],
   "source": [
    "# Save DataFrame to CSV\n",
    "df.to_csv('output.csv', index=False)\n",
    "\n",
    "# Save DataFrame to JSON\n",
    "df.to_json('output.json', orient='records', lines=True)\n"
   ]
  },
  {
   "cell_type": "code",
   "execution_count": null,
   "metadata": {},
   "outputs": [],
   "source": []
  }
 ],
 "metadata": {
  "kernelspec": {
   "display_name": "Python 3",
   "language": "python",
   "name": "python3"
  },
  "language_info": {
   "codemirror_mode": {
    "name": "ipython",
    "version": 3
   },
   "file_extension": ".py",
   "mimetype": "text/x-python",
   "name": "python",
   "nbconvert_exporter": "python",
   "pygments_lexer": "ipython3",
   "version": "3.12.3"
  }
 },
 "nbformat": 4,
 "nbformat_minor": 2
}
